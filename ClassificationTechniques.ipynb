{
 "cells": [
  {
   "cell_type": "code",
   "execution_count": 1,
   "id": "f1642265",
   "metadata": {},
   "outputs": [],
   "source": [
    "import pandas as pd\n",
    "import numpy as np\n",
    "import matplotlib.pyplot as mpl\n",
    "import matplotlib.pyplot as plt\n",
    "plt.rcParams.update({'font.size': 22,\n",
    "                     'ytick.labelsize': 20,\n",
    "                     'xtick.labelsize': 20})"
   ]
  },
  {
   "cell_type": "code",
   "execution_count": 2,
   "id": "d655ed6f",
   "metadata": {},
   "outputs": [],
   "source": [
    "# Separate the dataset into features and labels.\n",
    "# Included header = None so that the first row is not considered as feature names.\n",
    "dataset = pd.read_csv('mnist.csv', header=None)\n",
    "\n",
    "# Get X\n",
    "X = dataset.iloc[:,1:]\n",
    "\n",
    "# Get y\n",
    "y = dataset.iloc[:,0]"
   ]
  },
  {
   "cell_type": "markdown",
   "id": "cdad73c0",
   "metadata": {},
   "source": [
    "### Performing PCA to get 10 dimensional feature vector"
   ]
  },
  {
   "cell_type": "code",
   "execution_count": 3,
   "id": "db7cd157",
   "metadata": {},
   "outputs": [],
   "source": [
    "# Import the pca model\n",
    "from sklearn.decomposition import PCA\n",
    "\n",
    "# Get matrix with 10 principle components.\n",
    "pca = PCA(n_components=10)\n",
    "X_transformed = pca.fit_transform(X)"
   ]
  },
  {
   "cell_type": "markdown",
   "id": "0015171b",
   "metadata": {},
   "source": [
    "### Get Covariance matrix of transformed data"
   ]
  },
  {
   "cell_type": "code",
   "execution_count": 4,
   "id": "0a871aa1",
   "metadata": {},
   "outputs": [
    {
     "name": "stdout",
     "output_type": "stream",
     "text": [
      "The covariance matrix is:\n"
     ]
    },
    {
     "data": {
      "text/html": [
       "<div>\n",
       "<style scoped>\n",
       "    .dataframe tbody tr th:only-of-type {\n",
       "        vertical-align: middle;\n",
       "    }\n",
       "\n",
       "    .dataframe tbody tr th {\n",
       "        vertical-align: top;\n",
       "    }\n",
       "\n",
       "    .dataframe thead th {\n",
       "        text-align: right;\n",
       "    }\n",
       "</style>\n",
       "<table border=\"1\" class=\"dataframe\">\n",
       "  <thead>\n",
       "    <tr style=\"text-align: right;\">\n",
       "      <th></th>\n",
       "      <th>0</th>\n",
       "      <th>1</th>\n",
       "      <th>2</th>\n",
       "      <th>3</th>\n",
       "      <th>4</th>\n",
       "      <th>5</th>\n",
       "      <th>6</th>\n",
       "      <th>7</th>\n",
       "      <th>8</th>\n",
       "      <th>9</th>\n",
       "    </tr>\n",
       "  </thead>\n",
       "  <tbody>\n",
       "    <tr>\n",
       "      <th>0</th>\n",
       "      <td>5.305587</td>\n",
       "      <td>0.000000e+00</td>\n",
       "      <td>0.000000e+00</td>\n",
       "      <td>0.000000e+00</td>\n",
       "      <td>0.000000e+00</td>\n",
       "      <td>0.000000e+00</td>\n",
       "      <td>0.000000e+00</td>\n",
       "      <td>0.000000e+00</td>\n",
       "      <td>0.000000e+00</td>\n",
       "      <td>0.000000e+00</td>\n",
       "    </tr>\n",
       "    <tr>\n",
       "      <th>1</th>\n",
       "      <td>0.000000</td>\n",
       "      <td>3.877016e+00</td>\n",
       "      <td>-4.533762e-16</td>\n",
       "      <td>-1.421930e-15</td>\n",
       "      <td>-3.552495e-16</td>\n",
       "      <td>4.952152e-16</td>\n",
       "      <td>1.398757e-15</td>\n",
       "      <td>-8.010797e-17</td>\n",
       "      <td>-5.615156e-16</td>\n",
       "      <td>-4.729745e-16</td>\n",
       "    </tr>\n",
       "    <tr>\n",
       "      <th>2</th>\n",
       "      <td>0.000000</td>\n",
       "      <td>-4.533762e-16</td>\n",
       "      <td>3.287047e+00</td>\n",
       "      <td>6.216716e-16</td>\n",
       "      <td>1.603012e-15</td>\n",
       "      <td>-8.518867e-16</td>\n",
       "      <td>-1.630443e-15</td>\n",
       "      <td>3.549769e-16</td>\n",
       "      <td>4.825069e-16</td>\n",
       "      <td>-6.942499e-16</td>\n",
       "    </tr>\n",
       "    <tr>\n",
       "      <th>3</th>\n",
       "      <td>0.000000</td>\n",
       "      <td>-1.421930e-15</td>\n",
       "      <td>6.216716e-16</td>\n",
       "      <td>2.912541e+00</td>\n",
       "      <td>2.519613e-14</td>\n",
       "      <td>-1.580395e-16</td>\n",
       "      <td>1.152433e-15</td>\n",
       "      <td>1.065975e-15</td>\n",
       "      <td>6.382674e-16</td>\n",
       "      <td>-7.936584e-16</td>\n",
       "    </tr>\n",
       "    <tr>\n",
       "      <th>4</th>\n",
       "      <td>0.000000</td>\n",
       "      <td>-3.552495e-16</td>\n",
       "      <td>1.603012e-15</td>\n",
       "      <td>2.519613e-14</td>\n",
       "      <td>2.486332e+00</td>\n",
       "      <td>-5.076640e-16</td>\n",
       "      <td>-2.168132e-16</td>\n",
       "      <td>3.253270e-16</td>\n",
       "      <td>-8.738259e-16</td>\n",
       "      <td>1.193177e-16</td>\n",
       "    </tr>\n",
       "    <tr>\n",
       "      <th>5</th>\n",
       "      <td>0.000000</td>\n",
       "      <td>4.952152e-16</td>\n",
       "      <td>-8.518867e-16</td>\n",
       "      <td>-1.580395e-16</td>\n",
       "      <td>-5.076640e-16</td>\n",
       "      <td>2.353589e+00</td>\n",
       "      <td>-1.060327e-15</td>\n",
       "      <td>-3.989108e-16</td>\n",
       "      <td>3.724444e-16</td>\n",
       "      <td>9.351751e-16</td>\n",
       "    </tr>\n",
       "    <tr>\n",
       "      <th>6</th>\n",
       "      <td>0.000000</td>\n",
       "      <td>1.398757e-15</td>\n",
       "      <td>-1.630443e-15</td>\n",
       "      <td>1.152433e-15</td>\n",
       "      <td>-2.168132e-16</td>\n",
       "      <td>-1.060327e-15</td>\n",
       "      <td>1.755568e+00</td>\n",
       "      <td>1.590555e-15</td>\n",
       "      <td>1.265226e-15</td>\n",
       "      <td>-2.864769e-16</td>\n",
       "    </tr>\n",
       "    <tr>\n",
       "      <th>7</th>\n",
       "      <td>0.000000</td>\n",
       "      <td>-8.010797e-17</td>\n",
       "      <td>3.549769e-16</td>\n",
       "      <td>1.065975e-15</td>\n",
       "      <td>3.253270e-16</td>\n",
       "      <td>-3.989108e-16</td>\n",
       "      <td>1.590555e-15</td>\n",
       "      <td>1.544760e+00</td>\n",
       "      <td>3.085506e-16</td>\n",
       "      <td>-5.044808e-16</td>\n",
       "    </tr>\n",
       "    <tr>\n",
       "      <th>8</th>\n",
       "      <td>0.000000</td>\n",
       "      <td>-5.615156e-16</td>\n",
       "      <td>4.825069e-16</td>\n",
       "      <td>6.382674e-16</td>\n",
       "      <td>-8.738259e-16</td>\n",
       "      <td>3.724444e-16</td>\n",
       "      <td>1.265226e-15</td>\n",
       "      <td>3.085506e-16</td>\n",
       "      <td>1.454744e+00</td>\n",
       "      <td>-5.728881e-16</td>\n",
       "    </tr>\n",
       "    <tr>\n",
       "      <th>9</th>\n",
       "      <td>0.000000</td>\n",
       "      <td>-4.729745e-16</td>\n",
       "      <td>-6.942499e-16</td>\n",
       "      <td>-7.936584e-16</td>\n",
       "      <td>1.193177e-16</td>\n",
       "      <td>9.351751e-16</td>\n",
       "      <td>-2.864769e-16</td>\n",
       "      <td>-5.044808e-16</td>\n",
       "      <td>-5.728881e-16</td>\n",
       "      <td>1.243368e+00</td>\n",
       "    </tr>\n",
       "  </tbody>\n",
       "</table>\n",
       "</div>"
      ],
      "text/plain": [
       "          0             1             2             3             4  \\\n",
       "0  5.305587  0.000000e+00  0.000000e+00  0.000000e+00  0.000000e+00   \n",
       "1  0.000000  3.877016e+00 -4.533762e-16 -1.421930e-15 -3.552495e-16   \n",
       "2  0.000000 -4.533762e-16  3.287047e+00  6.216716e-16  1.603012e-15   \n",
       "3  0.000000 -1.421930e-15  6.216716e-16  2.912541e+00  2.519613e-14   \n",
       "4  0.000000 -3.552495e-16  1.603012e-15  2.519613e-14  2.486332e+00   \n",
       "5  0.000000  4.952152e-16 -8.518867e-16 -1.580395e-16 -5.076640e-16   \n",
       "6  0.000000  1.398757e-15 -1.630443e-15  1.152433e-15 -2.168132e-16   \n",
       "7  0.000000 -8.010797e-17  3.549769e-16  1.065975e-15  3.253270e-16   \n",
       "8  0.000000 -5.615156e-16  4.825069e-16  6.382674e-16 -8.738259e-16   \n",
       "9  0.000000 -4.729745e-16 -6.942499e-16 -7.936584e-16  1.193177e-16   \n",
       "\n",
       "              5             6             7             8             9  \n",
       "0  0.000000e+00  0.000000e+00  0.000000e+00  0.000000e+00  0.000000e+00  \n",
       "1  4.952152e-16  1.398757e-15 -8.010797e-17 -5.615156e-16 -4.729745e-16  \n",
       "2 -8.518867e-16 -1.630443e-15  3.549769e-16  4.825069e-16 -6.942499e-16  \n",
       "3 -1.580395e-16  1.152433e-15  1.065975e-15  6.382674e-16 -7.936584e-16  \n",
       "4 -5.076640e-16 -2.168132e-16  3.253270e-16 -8.738259e-16  1.193177e-16  \n",
       "5  2.353589e+00 -1.060327e-15 -3.989108e-16  3.724444e-16  9.351751e-16  \n",
       "6 -1.060327e-15  1.755568e+00  1.590555e-15  1.265226e-15 -2.864769e-16  \n",
       "7 -3.989108e-16  1.590555e-15  1.544760e+00  3.085506e-16 -5.044808e-16  \n",
       "8  3.724444e-16  1.265226e-15  3.085506e-16  1.454744e+00 -5.728881e-16  \n",
       "9  9.351751e-16 -2.864769e-16 -5.044808e-16 -5.728881e-16  1.243368e+00  "
      ]
     },
     "execution_count": 4,
     "metadata": {},
     "output_type": "execute_result"
    }
   ],
   "source": [
    "'''\n",
    "PCA done on the transformed data again so that the covariance matrix can be obtained from the pca object.\n",
    "'''\n",
    "pca_transformed = PCA()\n",
    "pca_transformed.fit_transform(X_transformed)\n",
    "covariance_matrix_transformed = pca_transformed.get_covariance()\n",
    "cov_mat_df = pd.DataFrame(covariance_matrix_transformed)\n",
    "\n",
    "print(\"The covariance matrix is:\")\n",
    "cov_mat_df"
   ]
  },
  {
   "cell_type": "markdown",
   "id": "8cfa2423",
   "metadata": {},
   "source": [
    "### Sum of covariance matrix"
   ]
  },
  {
   "cell_type": "code",
   "execution_count": 5,
   "id": "4fce9d7f",
   "metadata": {},
   "outputs": [
    {
     "name": "stdout",
     "output_type": "stream",
     "text": [
      "The sum of the covariance matrix is:  26.22055181603834\n"
     ]
    }
   ],
   "source": [
    "sum_cov = np.sum(covariance_matrix_transformed)\n",
    "print(\"The sum of the covariance matrix is: \", sum_cov)"
   ]
  },
  {
   "cell_type": "markdown",
   "id": "64de660c",
   "metadata": {},
   "source": [
    "### K means clustering"
   ]
  },
  {
   "cell_type": "code",
   "execution_count": 6,
   "id": "e6bd487f",
   "metadata": {},
   "outputs": [],
   "source": [
    "from sklearn.cluster import KMeans\n",
    "\n",
    "'''\n",
    "Initializing and model fitting. While fitting, only the features were passed since K-means is an unsupervised\n",
    "classifier.\n",
    "'''\n",
    "k_means_model = KMeans(n_clusters=10, random_state=1)\n",
    "fitted_model = k_means_model.fit(X)"
   ]
  },
  {
   "cell_type": "markdown",
   "id": "d155f0ac",
   "metadata": {},
   "source": [
    "### Showing centroids"
   ]
  },
  {
   "cell_type": "code",
   "execution_count": 7,
   "id": "f087ee9c",
   "metadata": {},
   "outputs": [
    {
     "name": "stdout",
     "output_type": "stream",
     "text": [
      "The centroid points are:\n",
      " [[0. 0. 0. ... 0. 0. 0.]\n",
      " [0. 0. 0. ... 0. 0. 0.]\n",
      " [0. 0. 0. ... 0. 0. 0.]\n",
      " ...\n",
      " [0. 0. 0. ... 0. 0. 0.]\n",
      " [0. 0. 0. ... 0. 0. 0.]\n",
      " [0. 0. 0. ... 0. 0. 0.]]\n"
     ]
    }
   ],
   "source": [
    "'''\n",
    "Since there are 784 features, each centroid point coordinate will have 784 entries. Therefore, the centroid_points\n",
    "array will be of shape 10 x 784.\n",
    "'''\n",
    "centroid_points = fitted_model.cluster_centers_\n",
    "print(\"The centroid points are:\\n\", centroid_points)"
   ]
  },
  {
   "cell_type": "markdown",
   "id": "c737f5e4",
   "metadata": {},
   "source": [
    "### Summation of all dimensions for each centroid point"
   ]
  },
  {
   "cell_type": "code",
   "execution_count": 8,
   "id": "9d56d8b8",
   "metadata": {},
   "outputs": [
    {
     "name": "stdout",
     "output_type": "stream",
     "text": [
      "The centroid sums are:\n",
      " [69.53379772961816, 112.09345113539487, 102.12228349673202, 119.69496911914612, 95.91205020469727, 65.78649237472769, 126.74630178210371, 94.53241766916106, 146.29338286893704, 118.50340417628485]\n"
     ]
    }
   ],
   "source": [
    "summations = [np.sum(each) for each in centroid_points]\n",
    "print(\"The centroid sums are:\\n\", summations)"
   ]
  },
  {
   "cell_type": "markdown",
   "id": "f111881f",
   "metadata": {},
   "source": [
    "### Loss curve"
   ]
  },
  {
   "cell_type": "code",
   "execution_count": null,
   "id": "0f2bfc80",
   "metadata": {
    "scrolled": false
   },
   "outputs": [],
   "source": [
    "max_iterations = fitted_model.max_iter\n",
    "losses = []\n",
    "iterations = np.arange(1, max_iterations + 1)\n",
    "for iteration_count in iterations:\n",
    "    model = KMeans(n_clusters=10, random_state=1, max_iter=iteration_count)\n",
    "    fitted_model_temp = model.fit(X)\n",
    "    \n",
    "    # Append inertia / loss for the model for iteration.\n",
    "    losses.append(fitted_model_temp.inertia_)\n",
    "    \n",
    "# Plot loss vs cluster count\n",
    "plt.figure(figsize=(30, 15))\n",
    "plt.plot(iterations, losses)\n",
    "plt.title('Loss for K-means')\n",
    "plt.xlabel('Number iterations')\n",
    "plt.ylabel('Loss')\n",
    "plt.show()"
   ]
  },
  {
   "cell_type": "markdown",
   "id": "c576943c",
   "metadata": {},
   "source": [
    "### Optimal K identification using elbow method"
   ]
  },
  {
   "cell_type": "code",
   "execution_count": 9,
   "id": "62183841",
   "metadata": {},
   "outputs": [],
   "source": [
    "from sklearn.model_selection import train_test_split\n",
    "from sklearn.metrics import accuracy_score, silhouette_score\n",
    "import math\n",
    "\n",
    "# Test train splits.\n",
    "X_train = X[0:4000]\n",
    "X_val = X[4000:]\n",
    "y_train = y[0:4000]\n",
    "y_val = y[4000:]\n",
    "\n",
    "'''\n",
    "The following code attempts to determine the best value of k via the elbow method. But, the loss vs clusters curve\n",
    "is so smooth that it is hard to determine the elbow point (point from which the maximum reduction in gradient takes\n",
    "place) As a result a range was pointed out in the graph within which the optimal value of K was suspected to be in.\n",
    "'''\n",
    "\n",
    "# Plotting graph of number of clusters vs loss for elbow method.\n",
    "clusters = np.arange(2, 31)\n",
    "losses = []\n",
    "for cluster_count in clusters:\n",
    "    model = KMeans(n_clusters=cluster_count, random_state=1)\n",
    "    fitted_model_temp = model.fit(X_train)\n",
    "    \n",
    "    # Append inertia / loss for the model for iteration.\n",
    "    losses.append(fitted_model_temp.inertia_)\n",
    "    \n",
    "# Plot loss vs cluster count\n",
    "plt.figure(figsize=(30, 15))\n",
    "plt.plot(clusters, losses, color='blue')\n",
    "plt.axvline(x = 6, color = 'black')\n",
    "plt.axvline(x = 10, color = 'black')\n",
    "plt.legend(['Training', 'optimal K range'])\n",
    "plt.title('loss vs number of clusters')\n",
    "plt.xticks(ticks=clusters)\n",
    "plt.xlabel('Number of clusters')\n",
    "plt.ylabel('Loss')\n",
    "plt.show()"
   ]
  },
  {
   "cell_type": "markdown",
   "id": "3dc99c24",
   "metadata": {},
   "source": [
    "### Optimal K identification using silhouette score"
   ]
  },
  {
   "cell_type": "code",
   "execution_count": 10,
   "id": "4f4686b7",
   "metadata": {},
   "outputs": [
    {
     "name": "stdout",
     "output_type": "stream",
     "text": [
      "[1 1 0 ... 1 1 1]\n"
     ]
    }
   ],
   "source": [
    "'''\n",
    "The following code attempts to determine the best value of k via the use of Silhouette coefficient. This is because\n",
    "the elbow method does not give us a clear indication of what the K value exactly is. In the silhouette coefficient\n",
    "graph, the optimal value of K has been identified with a vertical line.\n",
    "'''\n",
    "\n",
    "silhouette_scores_train = []\n",
    "silhouette_scores_val = []\n",
    "\n",
    "for cluster_count in clusters:\n",
    "    model = KMeans(n_clusters=cluster_count, random_state=1)\n",
    "    fitted_model_temp = model.fit(X_train)\n",
    "    labels = fitted_model_temp.labels_\n",
    "    print(labels)\n",
    "    break\n",
    "    val_predictions = fitted_model_temp.predict(X_val)\n",
    "    score_train = silhouette_score(X_train, labels)\n",
    "    score_val = silhouette_score(X_val, val_predictions)\n",
    "    \n",
    "    # Append validation accuracy scores along with the corresponding cluster count.\n",
    "    silhouette_scores_train.append(score_train)\n",
    "    silhouette_scores_val.append(score_val)\n",
    "\n",
    "    \n",
    "# Plot Accuracy vs cluster count\n",
    "plt.figure(figsize=(30, 15))\n",
    "plt.plot(clusters, silhouette_scores_train, color = 'blue')\n",
    "plt.plot(clusters, silhouette_scores_val, color = 'red')\n",
    "plt.axvline(x = 8, color = 'black')\n",
    "plt.legend(['Training', 'Validation', 'optimal K'])\n",
    "plt.xticks(ticks=clusters)\n",
    "plt.title('Accuracy vs number of clusters')\n",
    "plt.xlabel('Number of clusters')\n",
    "plt.ylabel('Silhouette Score')\n",
    "plt.show()"
   ]
  },
  {
   "cell_type": "markdown",
   "id": "cc22111b",
   "metadata": {},
   "source": [
    "### K-means with rbf kernel"
   ]
  },
  {
   "cell_type": "code",
   "execution_count": 11,
   "id": "ad27a6a0",
   "metadata": {},
   "outputs": [
    {
     "name": "stdout",
     "output_type": "stream",
     "text": [
      "The cluster centers are:\n",
      "         0         1         2         3         4         5         6    \\\n",
      "0  0.389895  0.339402  0.395880  0.432120  0.533973  0.434016  0.442943   \n",
      "1  0.295747  0.374546  0.283198  0.277281  0.281035  0.311879  0.273807   \n",
      "2  0.400473  0.346565  0.351769  0.397071  0.380096  0.380866  0.399777   \n",
      "3  0.377049  0.374207  0.342303  0.332540  0.382167  0.402853  0.414808   \n",
      "4  0.412127  0.333143  0.382702  0.610461  0.466886  0.394356  0.582641   \n",
      "\n",
      "        7         8         9    ...       490       491       492       493  \\\n",
      "0  0.367575  0.492517  0.506715  ...  0.323000  0.421278  0.426196  0.363953   \n",
      "1  0.325118  0.282587  0.285214  ...  0.317200  0.270439  0.269456  0.306310   \n",
      "2  0.406902  0.417931  0.375415  ...  0.380545  0.384639  0.387250  0.351074   \n",
      "3  0.306453  0.422305  0.418517  ...  0.322910  0.316099  0.315702  0.360258   \n",
      "4  0.334939  0.640038  0.450084  ...  0.391431  0.499408  0.609257  0.397160   \n",
      "\n",
      "        494       495       496       497       498       499  \n",
      "0  0.325011  0.318301  0.395762  0.436141  0.442766  0.407345  \n",
      "1  0.316489  0.318075  0.321213  0.295202  0.299292  0.294532  \n",
      "2  0.299668  0.335961  0.406305  0.378017  0.403676  0.410753  \n",
      "3  0.313936  0.299069  0.446159  0.360548  0.565118  0.420430  \n",
      "4  0.306096  0.315818  0.396957  0.454651  0.491068  0.476061  \n",
      "\n",
      "[5 rows x 500 columns]\n",
      "The cluster summations are:\n",
      " [210.1963740437953, 147.76271432070388, 185.61335268846955, 190.4868755298144, 218.13620505457666]\n"
     ]
    }
   ],
   "source": [
    "# First 500 samples of the original dataset.\n",
    "X_5 = X[0:500]\n",
    "\n",
    "# A custom k-means class which applies RBF kernel on the data.\n",
    "class KMeans_custom:\n",
    "    def fit(self, x):\n",
    "        # If less samples than features, select number of samples as the dimension of K.\n",
    "        shape = x.shape\n",
    "        N = min(shape)\n",
    "        k = np.zeros((N, N))\n",
    "        \n",
    "        # Compute 2 sigma squared using the formula provided.\n",
    "        two_sigma_squared = 0\n",
    "        for i in range(N):\n",
    "            for j in range(N):\n",
    "                distance = pow(np.linalg.norm((x[i] - x[j])), 2)\n",
    "                two_sigma_squared += distance\n",
    "        two_sigma_squared = two_sigma_squared / pow(N, 2)\n",
    "        \n",
    "        # Compute the value of the kernel output.\n",
    "        for i in range(N):\n",
    "            for j in range(N):\n",
    "                numerator = -pow(np.linalg.norm((x[i] - x[j])), 2)\n",
    "                k[i][j] = np.exp(numerator / two_sigma_squared)\n",
    "        self.kernel_output = k\n",
    "        \n",
    "        # Use Sklearn kmeans, but provide kernel output as input.\n",
    "        self.model = KMeans(n_clusters=5, random_state=1).fit(self.kernel_output)\n",
    "        \n",
    "    def get_centroids(self):\n",
    "        return self.model.cluster_centers_\n",
    "    \n",
    "    \n",
    "kmeans_model_rbf = KMeans_custom()\n",
    "kmeans_model_rbf.fit(X_5.values)\n",
    "\n",
    "# Obtain cluster centers\n",
    "cluster_centers = kmeans_model_rbf.get_centroids()\n",
    "cluster_centers_df = pd.DataFrame(cluster_centers)\n",
    "print(\"The cluster centers are:\\n\", cluster_centers_df)\n",
    "\n",
    "\n",
    "# Show the summation of all dimensions of the cluster centroids\n",
    "cluster_summations = [np.sum(each) for each in cluster_centers]\n",
    "print(\"The cluster summations are:\\n\", cluster_summations)"
   ]
  }
 ],
 "metadata": {
  "kernelspec": {
   "display_name": "Python 3",
   "language": "python",
   "name": "python3"
  },
  "language_info": {
   "codemirror_mode": {
    "name": "ipython",
    "version": 3
   },
   "file_extension": ".py",
   "mimetype": "text/x-python",
   "name": "python",
   "nbconvert_exporter": "python",
   "pygments_lexer": "ipython3",
   "version": "3.8.8"
  }
 },
 "nbformat": 4,
 "nbformat_minor": 5
}
